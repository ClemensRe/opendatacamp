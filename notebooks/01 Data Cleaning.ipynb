{
 "cells": [
  {
   "cell_type": "code",
   "execution_count": 2,
   "metadata": {},
   "outputs": [],
   "source": [
    "import pandas as pd\n",
    "import pathlib "
   ]
  },
  {
   "cell_type": "code",
   "execution_count": 3,
   "metadata": {},
   "outputs": [],
   "source": [
    "PROCESSED_DIR = pathlib.Path(\"../data/processed/\")\n",
    "RAW_DIR = pathlib.Path(\"../data/raw/\")\n",
    "relevant_entries = [\"Bad\",\"Stadion\", \"Parking\", \"West\", \"Lene\", \"VIP\", \"Gaeste\"]"
   ]
  },
  {
   "cell_type": "code",
   "execution_count": 4,
   "metadata": {},
   "outputs": [],
   "source": [
    "def filter_relevant_values(df: pd.DataFrame) -> pd.DataFrame:\n",
    "    df[\"Date\"] = pd.to_datetime(df.Date)\n",
    "    df = df.query(\"Result == 'VALID'\")\n",
    "    df = df.resample(\"5min\",on=\"Date\").count()\n",
    "    df = df.rename(columns={\"ClientId\": \"CountOfPersons\"})\n",
    "    final_df = df.drop(columns=list(df.columns[1:]))\n",
    "    return final_df\n",
    "    "
   ]
  },
  {
   "cell_type": "code",
   "execution_count": 12,
   "metadata": {},
   "outputs": [
    {
     "data": {
      "text/plain": [
       "array(['AK', 'Parking', 'Bad', 'outside', 'Lene', 'West', 'Gaeste', 'VIP'],\n",
       "      dtype=object)"
      ]
     },
     "execution_count": 12,
     "metadata": {},
     "output_type": "execute_result"
    }
   ],
   "source": [
    "df.NewSection.unique()"
   ]
  },
  {
   "cell_type": "code",
   "execution_count": 20,
   "metadata": {},
   "outputs": [
    {
     "name": "stdout",
     "output_type": "stream",
     "text": [
      "202110222142_scanExport_6589.csv\n",
      "202110222141_scanExport_7008.csv\n",
      "202110222141_scanExport_6784.csv\n",
      "202110222142_scanExport_6737.csv\n",
      "202110222139_scanExport_7189.csv\n",
      "202110222141_scanExport_7088.csv\n",
      "202110222140_scanExport_3707.csv\n"
     ]
    }
   ],
   "source": [
    "for csv_file in RAW_DIR.glob(\"*.csv\"):\n",
    "    for entry in relevant_entries:\n",
    "        df = pd.read_csv(csv_file)\n",
    "        df = df.query(f\"NewSection == '{entry}'\")\n",
    "        try:\n",
    "            final_df  = filter_relevant_values(df=df)\n",
    "        except AttributeError:\n",
    "            print(csv_file.name)\n",
    "            continue\n",
    "        file_name = PROCESSED_DIR / f\"{entry}_{csv_file.name}\"\n",
    "        final_df.to_csv(file_name)"
   ]
  },
  {
   "cell_type": "code",
   "execution_count": null,
   "metadata": {},
   "outputs": [],
   "source": []
  }
 ],
 "metadata": {
  "interpreter": {
   "hash": "62bd36614cbf1e008836bca7224ffe264f992c20e09ff286c55a132660bd1749"
  },
  "kernelspec": {
   "display_name": "Python 3.7.11 64-bit ('odc': conda)",
   "name": "python3"
  },
  "language_info": {
   "codemirror_mode": {
    "name": "ipython",
    "version": 3
   },
   "file_extension": ".py",
   "mimetype": "text/x-python",
   "name": "python",
   "nbconvert_exporter": "python",
   "pygments_lexer": "ipython3",
   "version": "3.7.11"
  },
  "orig_nbformat": 4
 },
 "nbformat": 4,
 "nbformat_minor": 2
}
