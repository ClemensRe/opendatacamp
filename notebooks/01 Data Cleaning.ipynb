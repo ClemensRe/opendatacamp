{
 "cells": [
  {
   "cell_type": "code",
   "execution_count": 2,
   "metadata": {},
   "outputs": [],
   "source": [
    "import pandas as pd\n",
    "import pathlib "
   ]
  },
  {
   "cell_type": "code",
   "execution_count": 3,
   "metadata": {},
   "outputs": [],
   "source": [
    "PROCESSED_DIR = pathlib.Path(\"../data/processed/\")\n",
    "RAW_DIR = pathlib.Path(\"../data/raw/\")\n",
    "relevant_entries = [\"Bad\",\"Stadion\", \"Parking\", \"West\", \"Lene\", \"VIP\", \"Gaeste\"]"
   ]
  },
  {
   "cell_type": "code",
   "execution_count": 23,
   "metadata": {},
   "outputs": [],
   "source": [
    "def filter_relevant_values(df: pd.DataFrame) -> pd.DataFrame:\n",
    "    df[\"Date\"] = pd.to_datetime(df.Date)\n",
    "    df = df.query(\"Result == 'VALID'\")\n",
    "    df = df.resample(\"5min\",on=\"Date\").count()\n",
    "    df = df.rename(columns={\"ClientId\": \"CountOfPersons\"})\n",
    "    final_df = df.drop(columns=list(df.columns[1:]))\n",
    "    return final_df\n",
    "    "
   ]
  },
  {
   "cell_type": "code",
   "execution_count": 25,
   "metadata": {},
   "outputs": [
    {
     "name": "stdout",
     "output_type": "stream",
     "text": [
      "202110222142_scanExport_6589.csv\n",
      "202110222141_scanExport_7008.csv\n",
      "202110222141_scanExport_6784.csv\n",
      "202110222142_scanExport_6737.csv\n",
      "202110222139_scanExport_7189.csv\n",
      "202110222141_scanExport_7088.csv\n",
      "202110222140_scanExport_3707.csv\n"
     ]
    }
   ],
   "source": [
    "for csv_file in RAW_DIR.glob(\"*.csv\"):\n",
    "    for entry in relevant_entries:\n",
    "        df = pd.read_csv(csv_file)\n",
    "        df = df.query(f\"NewSection == '{entry}'\")\n",
    "        try:\n",
    "            final_df  = filter_relevant_values(df=df)\n",
    "        except AttributeError:\n",
    "            print(csv_file.name)\n",
    "            continue\n",
    "        file_name = PROCESSED_DIR / f\"{entry}_{csv_file.name}\"\n",
    "        final_df.to_csv(file_name)"
   ]
  },
  {
   "cell_type": "code",
   "execution_count": 34,
   "metadata": {},
   "outputs": [
    {
     "name": "stdout",
     "output_type": "stream",
     "text": [
      "No data for csv '202110222142_scanExport_6589.csv' and 'Stadion'\n",
      "No data for csv '202110222141_scanExport_7008.csv' and 'Stadion'\n",
      "No data for csv '202110222141_scanExport_6784.csv' and 'Stadion'\n",
      "No data for csv '202110222142_scanExport_6737.csv' and 'Stadion'\n",
      "No data for csv '202110222139_scanExport_7189.csv' and 'Stadion'\n",
      "No data for csv '202110222141_scanExport_7088.csv' and 'Stadion'\n",
      "No data for csv '202110222140_scanExport_3707.csv' and 'Stadion'\n"
     ]
    }
   ],
   "source": [
    "not_processed_files = [\"202110222142_scanExport_6589.csv\",\n",
    "\"202110222141_scanExport_7008.csv\",\n",
    "\"202110222141_scanExport_6784.csv\",\n",
    "\"202110222142_scanExport_6737.csv\",\n",
    "\"202110222139_scanExport_7189.csv\",\n",
    "\"202110222141_scanExport_7088.csv\",\n",
    "\"202110222140_scanExport_3707.csv\"]\n",
    "for csv_file in not_processed_files:\n",
    "    for entry in relevant_entries:\n",
    "        df = pd.read_csv(RAW_DIR / csv_file)\n",
    "        df = df.query(f\"NewSection == '{entry}'\")\n",
    "        if len(df) == 0:\n",
    "            print(f\"No data for csv '{csv_file}' and '{entry}'\")\n",
    "            continue\n",
    "        df[\"Date\"] = pd.to_datetime(df.Date, dayfirst=False)\n",
    "        df = df.query(\"Result == 'VALID'\")\n",
    "        df = df.resample(\"5min\",on=\"Date\").count()\n",
    "        df = df.rename(columns={\"ClientId\": \"CountOfPersons\"})\n",
    "        final_df = df.drop(columns=list(df.columns[1:]))\n",
    "        file_name = PROCESSED_DIR / f\"{entry}_{csv_file}\"\n",
    "        final_df.to_csv(file_name)"
   ]
  },
  {
   "cell_type": "code",
   "execution_count": 18,
   "metadata": {},
   "outputs": [],
   "source": [
    "df = pd.read_csv(\"../data/raw/202110222142_scanExport_6589.csv\")"
   ]
  },
  {
   "cell_type": "code",
   "execution_count": 11,
   "metadata": {},
   "outputs": [],
   "source": [
    "df[\"Date\"] = pd.to_datetime(df.Date, dayfirst=False)#format=\"\"\"%m/%d/%y %H:%M:%S\"\"\",)"
   ]
  },
  {
   "cell_type": "code",
   "execution_count": 12,
   "metadata": {},
   "outputs": [],
   "source": [
    "df = df.query(\"Result == 'VALID'\")\n",
    "df = df.resample(\"5min\",on=\"Date\").count()\n",
    "df = df.rename(columns={\"ClientId\": \"CountOfPersons\"})\n",
    "final_df = df.drop(columns=list(df.columns[1:]))"
   ]
  },
  {
   "cell_type": "code",
   "execution_count": 14,
   "metadata": {},
   "outputs": [
    {
     "data": {
      "text/plain": [
       "<AxesSubplot:xlabel='Date'>"
      ]
     },
     "execution_count": 14,
     "metadata": {},
     "output_type": "execute_result"
    },
    {
     "data": {
      "image/png": "[encoded data removed]",
      "text/plain": [
       "<Figure size 432x288 with 1 Axes>"
      ]
     },
     "metadata": {
      "needs_background": "light"
     },
     "output_type": "display_data"
    }
   ],
   "source": [
    "final_df.plot()"
   ]
  },
  {
   "cell_type": "code",
   "execution_count": 15,
   "metadata": {},
   "outputs": [
    {
     "data": {
      "text/html": [
       "<div>\n",
       "<style scoped>\n",
       "    .dataframe tbody tr th:only-of-type {\n",
       "        vertical-align: middle;\n",
       "    }\n",
       "\n",
       "    .dataframe tbody tr th {\n",
       "        vertical-align: top;\n",
       "    }\n",
       "\n",
       "    .dataframe thead th {\n",
       "        text-align: right;\n",
       "    }\n",
       "</style>\n",
       "<table border=\"1\" class=\"dataframe\">\n",
       "  <thead>\n",
       "    <tr style=\"text-align: right;\">\n",
       "      <th></th>\n",
       "      <th>CountOfPersons</th>\n",
       "    </tr>\n",
       "    <tr>\n",
       "      <th>Date</th>\n",
       "      <th></th>\n",
       "    </tr>\n",
       "  </thead>\n",
       "  <tbody>\n",
       "    <tr>\n",
       "      <th>2019-10-26 06:55:00</th>\n",
       "      <td>1</td>\n",
       "    </tr>\n",
       "    <tr>\n",
       "      <th>2019-10-26 07:00:00</th>\n",
       "      <td>0</td>\n",
       "    </tr>\n",
       "    <tr>\n",
       "      <th>2019-10-26 07:05:00</th>\n",
       "      <td>1</td>\n",
       "    </tr>\n",
       "    <tr>\n",
       "      <th>2019-10-26 07:10:00</th>\n",
       "      <td>2</td>\n",
       "    </tr>\n",
       "    <tr>\n",
       "      <th>2019-10-26 07:15:00</th>\n",
       "      <td>0</td>\n",
       "    </tr>\n",
       "    <tr>\n",
       "      <th>...</th>\n",
       "      <td>...</td>\n",
       "    </tr>\n",
       "    <tr>\n",
       "      <th>2019-10-26 14:05:00</th>\n",
       "      <td>2</td>\n",
       "    </tr>\n",
       "    <tr>\n",
       "      <th>2019-10-26 14:10:00</th>\n",
       "      <td>0</td>\n",
       "    </tr>\n",
       "    <tr>\n",
       "      <th>2019-10-26 14:15:00</th>\n",
       "      <td>0</td>\n",
       "    </tr>\n",
       "    <tr>\n",
       "      <th>2019-10-26 14:20:00</th>\n",
       "      <td>0</td>\n",
       "    </tr>\n",
       "    <tr>\n",
       "      <th>2019-10-26 14:25:00</th>\n",
       "      <td>2</td>\n",
       "    </tr>\n",
       "  </tbody>\n",
       "</table>\n",
       "<p>91 rows × 1 columns</p>\n",
       "</div>"
      ],
      "text/plain": [
       "                     CountOfPersons\n",
       "Date                               \n",
       "2019-10-26 06:55:00               1\n",
       "2019-10-26 07:00:00               0\n",
       "2019-10-26 07:05:00               1\n",
       "2019-10-26 07:10:00               2\n",
       "2019-10-26 07:15:00               0\n",
       "...                             ...\n",
       "2019-10-26 14:05:00               2\n",
       "2019-10-26 14:10:00               0\n",
       "2019-10-26 14:15:00               0\n",
       "2019-10-26 14:20:00               0\n",
       "2019-10-26 14:25:00               2\n",
       "\n",
       "[91 rows x 1 columns]"
      ]
     },
     "execution_count": 15,
     "metadata": {},
     "output_type": "execute_result"
    }
   ],
   "source": [
    "final_df.to_csv(PROCESSED_DIR / csv_file.name)"
   ]
  },
  {
   "cell_type": "code",
   "execution_count": null,
   "metadata": {},
   "outputs": [],
   "source": []
  }
 ],
 "metadata": {
  "interpreter": {
   "hash": "62bd36614cbf1e008836bca7224ffe264f992c20e09ff286c55a132660bd1749"
  },
  "kernelspec": {
   "display_name": "Python 3.7.11 64-bit ('odc': conda)",
   "name": "python3"
  },
  "language_info": {
   "codemirror_mode": {
    "name": "ipython",
    "version": 3
   },
   "file_extension": ".py",
   "mimetype": "text/x-python",
   "name": "python",
   "nbconvert_exporter": "python",
   "pygments_lexer": "ipython3",
   "version": "3.7.11"
  },
  "orig_nbformat": 4
 },
 "nbformat": 4,
 "nbformat_minor": 2
}
